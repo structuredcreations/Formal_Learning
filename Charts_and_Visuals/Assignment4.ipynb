{
 "cells": [
  {
   "cell_type": "markdown",
   "metadata": {},
   "source": [
    "# Assignment 4\n",
    "\n",
    "Before working on this assignment please read these instructions fully. In the submission area, you will notice that you can click the link to **Preview the Grading** for each step of the assignment. This is the criteria that will be used for peer grading. Please familiarize yourself with the criteria before beginning the assignment.\n",
    "\n",
    "This assignment requires that you to find **at least** two datasets on the web which are related, and that you visualize these datasets to answer a question with the broad topic of **sports or athletics** (see below) for the region of **Ann Arbor, Michigan, United States**, or **United States** more broadly.\n",
    "\n",
    "You can merge these datasets with data from different regions if you like! For instance, you might want to compare **Ann Arbor, Michigan, United States** to Ann Arbor, USA. In that case at least one source file must be about **Ann Arbor, Michigan, United States**.\n",
    "\n",
    "You are welcome to choose datasets at your discretion, but keep in mind **they will be shared with your peers**, so choose appropriate datasets. Sensitive, confidential, illicit, and proprietary materials are not good choices for datasets for this assignment. You are welcome to upload datasets of your own as well, and link to them using a third party repository such as github, bitbucket, pastebin, etc. Please be aware of the Coursera terms of service with respect to intellectual property.\n",
    "\n",
    "Also, you are welcome to preserve data in its original language, but for the purposes of grading you should provide english translations. You are welcome to provide multiple visuals in different languages if you would like!\n",
    "\n",
    "As this assignment is for the whole course, you must incorporate principles discussed in the first week, such as having as high data-ink ratio (Tufte) and aligning with Cairo’s principles of truth, beauty, function, and insight.\n",
    "\n",
    "Here are the assignment instructions:\n",
    "\n",
    " * State the region and the domain category that your data sets are about (e.g., **Ann Arbor, Michigan, United States** and **sports or athletics**).\n",
    " * You must state a question about the domain category and region that you identified as being interesting.\n",
    " * You must provide at least two links to available datasets. These could be links to files such as CSV or Excel files, or links to websites which might have data in tabular form, such as Wikipedia pages.\n",
    " * You must upload an image which addresses the research question you stated. In addition to addressing the question, this visual should follow Cairo's principles of truthfulness, functionality, beauty, and insightfulness.\n",
    " * You must contribute a short (1-2 paragraph) written justification of how your visualization addresses your stated research question.\n",
    "\n",
    "What do we mean by **sports or athletics**?  For this category we are interested in sporting events or athletics broadly, please feel free to creatively interpret the category when building your research question!\n",
    "\n",
    "## Tips\n",
    "* Wikipedia is an excellent source of data, and I strongly encourage you to explore it for new data sources.\n",
    "* Many governments run open data initiatives at the city, region, and country levels, and these are wonderful resources for localized data sources.\n",
    "* Several international agencies, such as the [United Nations](http://data.un.org/), the [World Bank](http://data.worldbank.org/), the [Global Open Data Index](http://index.okfn.org/place/) are other great places to look for data.\n",
    "* This assignment requires you to convert and clean datafiles. Check out the discussion forums for tips on how to do this from various sources, and share your successes with your fellow students!\n",
    "\n",
    "## Example\n",
    "Looking for an example? Here's what our course assistant put together for the **Ann Arbor, MI, USA** area using **sports and athletics** as the topic. [Example Solution File](./readonly/Assignment4_example.pdf)"
   ]
  },
  {
   "cell_type": "code",
   "execution_count": null,
   "metadata": {
    "collapsed": true
   },
   "outputs": [],
   "source": [
    "import pandas as pd\n",
    "import numpy as np\n",
    "import matplotlib.pyplot as plt\n",
    "import seaborn as sns\n",
    "%matplotlib notebook\n",
    "\n",
    "# Removes default white gridlines from the plot:\n",
    "plt.rcParams[\"axes.grid\"] = False\n"
   ]
  },
  {
   "cell_type": "code",
   "execution_count": null,
   "metadata": {
    "collapsed": true
   },
   "outputs": [],
   "source": [
    "#US box office sales\n",
    "#NBA salary cap over years\n",
    "#https://www.basketball-reference.com/contracts/salary-cap-history.html\n",
    "#US household income over years\n",
    "#https://fred.stlouisfed.org/series/MEHOINUSA672N\n"
   ]
  },
  {
   "cell_type": "code",
   "execution_count": null,
   "metadata": {
    "collapsed": false
   },
   "outputs": [],
   "source": [
    "# Read and clean data for manufacturing employees:\n",
    "manuf = pd.read_csv('manuf.csv')\n",
    "manuf['DATE'] = pd.to_datetime(manuf['DATE'])\n",
    "manuf = manuf.rename(columns={'ANNA426MFG':'Manufacturing'})\n",
    "\n",
    "# Read and clean data for employees in professional and business services:\n",
    "prof_business = pd.read_csv('prof_business.csv')\n",
    "prof_business['DATE'] = pd.to_datetime(manuf['DATE'])\n",
    "prof_business = prof_business.rename(columns={'ANNA426PBSVN':'Professional services'})\n",
    "prof_business = prof_business.dropna() # NaN values causing problems in plotting.\n",
    "\n",
    "# Read and clean data for average weekly wages for employees in private organisations:\n",
    "avg_weekly = pd.read_csv('avg_weekly.csv')\n",
    "avg_weekly['DATE'] = pd.to_datetime(avg_weekly['DATE'])\n",
    "avg_weekly = avg_weekly.rename(columns={'ENUC114640510':'Weekly wages'})\n",
    "\n",
    "# Monthly date range:\n",
    "#dates = pd.date_range(start='1/1/1990', end='1/2/2019', freq='MS')\n",
    "\n",
    "fig, ax1 = plt.subplots()\n",
    "ax1.plot(manuf['DATE'],manuf['Manufacturing'])\n",
    "ax1.plot(prof_business['DATE'], prof_business['Professional services'])\n",
    "ax1.set_xlabel('Year')\n",
    "ax1.set_ylabel('Thousands of persons')\n",
    "ax1.tick_params('y')\n",
    "\n",
    "# frameon turns the frame around the legend on. framealpha adjusts the transparency of the box.\n",
    "ax1.legend(loc='upper left', fontsize=9, frameon=True, framealpha=1)\n",
    "\n",
    "ax2 = ax1.twinx()\n",
    "ax2.plot(avg_weekly['DATE'],avg_weekly['Weekly wages'], 'r', label='Private sector weekly wages')\n",
    "ax2.set_ylabel('Dollars per week')\n",
    "ax2.tick_params('y')\n",
    "ax2.legend(loc='upper right', fontsize=9, frameon=True, framealpha=1)\n",
    "\n",
    "plt.title('Employment trends in Ann Arbor, Michigan')\n",
    "fig.tight_layout()\n",
    "plt.show()"
   ]
  },
  {
   "cell_type": "code",
   "execution_count": null,
   "metadata": {
    "collapsed": true
   },
   "outputs": [],
   "source": []
  }
 ],
 "metadata": {
  "kernelspec": {
   "display_name": "Python 3",
   "language": "python",
   "name": "python3"
  },
  "language_info": {
   "codemirror_mode": {
    "name": "ipython",
    "version": 3
   },
   "file_extension": ".py",
   "mimetype": "text/x-python",
   "name": "python",
   "nbconvert_exporter": "python",
   "pygments_lexer": "ipython3",
   "version": "3.6.2"
  }
 },
 "nbformat": 4,
 "nbformat_minor": 1
}
